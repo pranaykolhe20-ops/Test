{
 "cells": [
  {
   "cell_type": "markdown",
   "id": "99ccf06e-f143-4a17-9f51-501f4b3a3af2",
   "metadata": {},
   "source": [
    "##### 1. Second Largest Without Sorting\n",
    "Write a program to find the second largest number in a list without using sort() or max() more than once."
   ]
  },
  {
   "cell_type": "code",
   "execution_count": 1,
   "id": "96a0a005-b2b3-46ca-b503-5b4767881f13",
   "metadata": {},
   "outputs": [
    {
     "name": "stdout",
     "output_type": "stream",
     "text": [
      "Second largest number: 15\n"
     ]
    }
   ],
   "source": [
    "numbers = [10, 5, 20, 8, 15]\n",
    "\n",
    "largest = max(numbers)\n",
    "\n",
    "second_largest = None            #10sat #5not sat #20no sat #8<10 not sat #15 gret than 10 ,its satisfied\n",
    "\n",
    "for num in numbers:\n",
    "    if num != largest:\n",
    "        if second_largest is None or num > second_largest:\n",
    "            second_largest = num\n",
    "\n",
    "print(\"Second largest number:\", second_largest)"
   ]
  },
  {
   "cell_type": "code",
   "execution_count": 27,
   "id": "37fb8d0b-9351-4076-810f-544cac4727f9",
   "metadata": {},
   "outputs": [
    {
     "name": "stdout",
     "output_type": "stream",
     "text": [
      "Second Largest: 15\n"
     ]
    }
   ],
   "source": [
    "#Another way\n",
    "nums = [10, 5, 8, 20, 15]\n",
    "largest = max(nums)         # find largest once\n",
    "second = float('-inf')\n",
    "for n in nums:\n",
    "    if n != largest and n > second:\n",
    "        second = n\n",
    "print(\"Second Largest:\", second)"
   ]
  },
  {
   "cell_type": "markdown",
   "id": "9e0fedae-b13f-4d41-9547-34935e78eb7d",
   "metadata": {},
   "source": [
    "##### 2. Missing Number in Range\n",
    "Input: a list of unique numbers from 1 to n (with one missing). Find the missing number using loops only.\n",
    "Example: [1, 2, 4, 5] → Output: 3"
   ]
  },
  {
   "cell_type": "code",
   "execution_count": 2,
   "id": "7fbac98c-c188-4407-b089-55a68ad82624",
   "metadata": {},
   "outputs": [
    {
     "name": "stdout",
     "output_type": "stream",
     "text": [
      "missing number is 3\n"
     ]
    }
   ],
   "source": [
    "def find_missing(nums,n):\n",
    "    for i in range(1,n+1):\n",
    "        if i not in nums:\n",
    "            return i\n",
    "            \n",
    "lst=[1,2,4,5,6,7]\n",
    "\n",
    "n=7\n",
    "\n",
    "print(\"missing number is\", find_missing(lst,n))"
   ]
  },
  {
   "cell_type": "code",
   "execution_count": 28,
   "id": "e77339cf-2247-4eb7-a48c-5b32d98b73d4",
   "metadata": {},
   "outputs": [
    {
     "name": "stdout",
     "output_type": "stream",
     "text": [
      "Missing Number: 3\n"
     ]
    }
   ],
   "source": [
    "#Another way\n",
    "nums = [1, 2, 4, 5]\n",
    "n = 5   # total numbers should be from 1 to 5\n",
    "expected_sum = n * (n + 1) // 2\n",
    "actual_sum = 0\n",
    "for x in nums:\n",
    "    actual_sum += x\n",
    "print(\"Missing Number:\", expected_sum - actual_sum)"
   ]
  },
  {
   "cell_type": "markdown",
   "id": "45a80c52-5805-4731-a517-d34ee309d432",
   "metadata": {},
   "source": [
    "##### 3. Count Consecutive Characters\n",
    "For a given string, count consecutive repeating characters and compress it.\n",
    "Example: \"aaabbccccd\" → \"a3b2c4d1\""
   ]
  },
  {
   "cell_type": "code",
   "execution_count": 29,
   "id": "26fcd091-bcef-411e-8052-45bc737d05cb",
   "metadata": {},
   "outputs": [
    {
     "name": "stdout",
     "output_type": "stream",
     "text": [
      "Compressed: a3b2c4d1\n"
     ]
    }
   ],
   "source": [
    "# 3. Count Consecutive Characters (String Compression)\n",
    "s = \"aaabbccccd\"\n",
    "result = \"\"\n",
    "count = 1\n",
    "for i in range(1, len(s)):\n",
    "    if s[i] == s[i-1]:\n",
    "        count += 1\n",
    "    else:\n",
    "        result += s[i-1] + str(count)\n",
    "        count = 1\n",
    "        \n",
    "result += s[-1] + str(count)   # add last group\n",
    "print(\"Compressed:\", result)"
   ]
  },
  {
   "cell_type": "markdown",
   "id": "c1cdf471-4ca4-4850-af5b-bd26b40fc345",
   "metadata": {},
   "source": [
    "##### 4. Check Balanced String\n",
    "A string is balanced if the number of vowels equals the number of consonants.\n",
    "Example: \"code\" → Balanced (2 vowels, 2 consonants)."
   ]
  },
  {
   "cell_type": "code",
   "execution_count": 3,
   "id": "02997fdb-df39-443b-a58c-a48eb19a277d",
   "metadata": {},
   "outputs": [
    {
     "name": "stdout",
     "output_type": "stream",
     "text": [
      "Balanced\n",
      "Not Balanced\n"
     ]
    }
   ],
   "source": [
    "def is_balanced(s):\n",
    "    vowels = \"aeiouAEIOU\"\n",
    "    v_count = 0\n",
    "    c_count = 0\n",
    "\n",
    "    for i in s:\n",
    "        if i.isalpha():              # consider only alphabets\n",
    "            if i in vowels:\n",
    "                v_count += 1\n",
    "            else:\n",
    "                c_count += 1\n",
    "    \n",
    "    if v_count == c_count:\n",
    "        return \"Balanced\"\n",
    "    else:\n",
    "        return \"Not Balanced\"\n",
    "\n",
    "# Example\n",
    "print(is_balanced(\"code\"))\n",
    "print(is_balanced(\"hello\"))"
   ]
  },
  {
   "cell_type": "code",
   "execution_count": 30,
   "id": "0c2dca03-50ec-4970-8802-35fae8e077f8",
   "metadata": {},
   "outputs": [
    {
     "name": "stdout",
     "output_type": "stream",
     "text": [
      "Not Balanced\n"
     ]
    }
   ],
   "source": [
    "# 4. Check Balanced String\n",
    "s = \"coode\".lower()\n",
    "vowels = \"aeiou\"\n",
    "vowel_count = 0\n",
    "consonant_count = 0\n",
    "\n",
    "for ch in s:\n",
    "    if ch.isalpha():\n",
    "        if ch in vowels:\n",
    "            vowel_count += 1\n",
    "        else:\n",
    "            consonant_count += 1\n",
    "\n",
    "if vowel_count == consonant_count:\n",
    "    print(\"Balanced\")\n",
    "else:\n",
    "    print(\"Not Balanced\")"
   ]
  },
  {
   "cell_type": "markdown",
   "id": "0d9ad19f-9e0b-4f28-86a0-fc348b42eb02",
   "metadata": {},
   "source": [
    "##### 5. List Element Difference\n",
    "Given a list, create a new list where each element is the difference between the largest element and the current element.\n",
    "Example: [4, 7, 2] → [3, 0, 5]\n"
   ]
  },
  {
   "cell_type": "code",
   "execution_count": 4,
   "id": "1b9b6bcc-b568-4106-a694-3d1319d1b83b",
   "metadata": {},
   "outputs": [
    {
     "name": "stdout",
     "output_type": "stream",
     "text": [
      "[3, 0, 5]\n"
     ]
    }
   ],
   "source": [
    "numbers = [4, 7, 2]\n",
    "\n",
    "max_num = max(numbers)\n",
    "\n",
    "result = [max_num - x for x in numbers]\n",
    "\n",
    "print(result)"
   ]
  },
  {
   "cell_type": "code",
   "execution_count": 31,
   "id": "df05849a-817c-4092-9c4f-abcf0315ecdf",
   "metadata": {},
   "outputs": [
    {
     "name": "stdout",
     "output_type": "stream",
     "text": [
      "Difference List: [3, 0, 5]\n"
     ]
    }
   ],
   "source": [
    "# 5. List Element Difference\n",
    "nums = [4, 7, 2]\n",
    "largest = max(nums)\n",
    "diff_list = []\n",
    "for n in nums:\n",
    "    diff_list.append(largest - n)\n",
    "print(\"Difference List:\", diff_list)"
   ]
  },
  {
   "cell_type": "markdown",
   "id": "82097362-0485-4c51-a7b5-634719d8b0ce",
   "metadata": {},
   "source": [
    "##### 6. Digit Rearrangement\n",
    "Take an integer and rearrange its digits in descending order.\n",
    "Example: 42153 → 54321"
   ]
  },
  {
   "cell_type": "code",
   "execution_count": 5,
   "id": "ae90ffba-f144-42d0-83c8-bd6a8e33f8a3",
   "metadata": {},
   "outputs": [
    {
     "name": "stdout",
     "output_type": "stream",
     "text": [
      "54321\n"
     ]
    }
   ],
   "source": [
    "num = 42153\n",
    "\n",
    "digits = list(str(num))\n",
    "\n",
    "digits.sort(reverse=True)\n",
    "\n",
    "result = int(\"\".join(digits))\n",
    "\n",
    "print(result)"
   ]
  },
  {
   "cell_type": "code",
   "execution_count": 32,
   "id": "2f3dfd16-1fbd-42be-990c-7edc9b871320",
   "metadata": {},
   "outputs": [
    {
     "name": "stdout",
     "output_type": "stream",
     "text": [
      "Rearranged Number: 6554321\n"
     ]
    }
   ],
   "source": [
    "\n",
    "# 6. Digit Rearrangement\n",
    "num = 4256153\n",
    "digits = list(str(num))\n",
    "digits.sort(reverse=True)\n",
    "new_num = int(\"\".join(digits))\n",
    "print(\"Rearranged Number:\", new_num)\n"
   ]
  },
  {
   "cell_type": "markdown",
   "id": "026325a2-5ed5-4c3c-8f2e-b809f6610ced",
   "metadata": {},
   "source": [
    "##### 7. Sum of Alternate Numbers\n",
    "Given a list of integers, find the sum of elements at even indices and at odd indices separately, then print which sum is larger.\n"
   ]
  },
  {
   "cell_type": "code",
   "execution_count": 6,
   "id": "81f29d12-0615-447d-b6a4-82e54f284a0a",
   "metadata": {},
   "outputs": [
    {
     "name": "stdout",
     "output_type": "stream",
     "text": [
      "Sum of even indices: 90\n",
      "Sum of odd indices: 60\n",
      "Even index sum is larger\n"
     ]
    }
   ],
   "source": [
    "numbers = [10, 20, 30, 40, 50]\n",
    "\n",
    "even_sum = 0\n",
    "odd_sum = 0\n",
    "\n",
    "for i in range(len(numbers)):\n",
    "    if i % 2 == 0:        \n",
    "        even_sum += numbers[i]\n",
    "    else:                 \n",
    "        odd_sum += numbers[i]\n",
    "\n",
    "print(\"Sum of even indices:\", even_sum)\n",
    "print(\"Sum of odd indices:\", odd_sum)\n",
    "\n",
    "if even_sum > odd_sum:\n",
    "    print(\"Even index sum is larger\")\n",
    "elif odd_sum > even_sum:\n",
    "    print(\"Odd index sum is larger\")\n",
    "else:\n",
    "    print(\"Both sums are equal\")"
   ]
  },
  {
   "cell_type": "code",
   "execution_count": 39,
   "id": "5dcc39b4-1eb4-41aa-9375-38e50ac60705",
   "metadata": {},
   "outputs": [
    {
     "name": "stdout",
     "output_type": "stream",
     "text": [
      "Even Index Sum is larger: 90\n"
     ]
    }
   ],
   "source": [
    "# 7. Sum of Alternate Numbers\n",
    "nums = [10, 20, 30, 40, 50]\n",
    "even_sum = 0\n",
    "odd_sum = 0\n",
    "\n",
    "for i in range( len(nums)):\n",
    "    if i % 2 == 0:\n",
    "        even_sum += nums[i]\n",
    "    else:\n",
    "        odd_sum += nums[i]\n",
    "\n",
    "if even_sum > odd_sum:\n",
    "    print(\"Even Index Sum is larger:\", even_sum)\n",
    "else:\n",
    "    print(\"Odd Index Sum is larger:\", odd_sum)\n",
    "    \n",
    "    "
   ]
  },
  {
   "cell_type": "markdown",
   "id": "9f181b28-dd50-4e7c-8058-4bcc604d8ccd",
   "metadata": {},
   "source": [
    "##### 8. Flatten a Nested List\n",
    "Without using libraries, flatten a 2D list into a 1D list.\n",
    "Example: [[1,2], [3,4], [5]] → [1,2,3,4,5]"
   ]
  },
  {
   "cell_type": "code",
   "execution_count": 7,
   "id": "5f3f7591-153b-4b2b-9e61-e92c9243f63b",
   "metadata": {},
   "outputs": [
    {
     "name": "stdout",
     "output_type": "stream",
     "text": [
      "[1, 2, 3, 4, 5]\n"
     ]
    }
   ],
   "source": [
    "nested_list = [[1, 2], [3, 4], [5]]\n",
    "\n",
    "flat = []\n",
    "for i in nested_list:   # take each inner list\n",
    "    for item in i:      # take each element inside it\n",
    "        flat.append(item)     # add to flat list\n",
    "\n",
    "print(flat)"
   ]
  },
  {
   "cell_type": "code",
   "execution_count": 38,
   "id": "39a0e83a-4d44-4e54-9cbd-b354e3e0838b",
   "metadata": {},
   "outputs": [
    {
     "name": "stdout",
     "output_type": "stream",
     "text": [
      "Flattened List: [1, 2, 3, 4, 5]\n"
     ]
    }
   ],
   "source": [
    "# 8. Flatten a Nested List\n",
    "nested = [[1,2], [3,4], [5]]\n",
    "flat = []\n",
    "for sublist in nested:\n",
    "    for item in sublist:\n",
    "        flat.append(item)\n",
    "print(\"Flattened List:\", flat)\n"
   ]
  },
  {
   "cell_type": "markdown",
   "id": "ff78d716-4058-47c2-9169-9662a2441ac2",
   "metadata": {},
   "source": [
    "##### # 9. First Non-Repeating Character"
   ]
  },
  {
   "cell_type": "code",
   "execution_count": 37,
   "id": "3b445dde-eb05-407a-bde4-d40856cdbba7",
   "metadata": {},
   "outputs": [
    {
     "name": "stdout",
     "output_type": "stream",
     "text": [
      "First Non-Repeating: i\n"
     ]
    }
   ],
   "source": [
    "# 9. First Non-Repeating Character\n",
    "s = \"swwiss\"\n",
    "for ch in s:\n",
    "    if s.count(ch) == 1:\n",
    "        print(\"First Non-Repeating:\", ch)\n",
    "        break"
   ]
  },
  {
   "cell_type": "markdown",
   "id": "addea290-c041-4022-8363-d99a7bc4fb96",
   "metadata": {},
   "source": [
    "##### 10. Intersection of Two Lists\n",
    "Without using set(), find common elements between two lists."
   ]
  },
  {
   "cell_type": "code",
   "execution_count": 8,
   "id": "37a8455f-005d-40a6-9912-3567299aa7ac",
   "metadata": {},
   "outputs": [
    {
     "name": "stdout",
     "output_type": "stream",
     "text": [
      "Common elements: [4, 5]\n"
     ]
    }
   ],
   "source": [
    "list1 = [1, 2, 3, 4, 5]\n",
    "list2 = [4, 5, 6, 7, 8]\n",
    "\n",
    "common = []\n",
    "for i in list1:\n",
    "    if i in list2 :                      # and i not in common\n",
    "        common.append(i)\n",
    "\n",
    "print(\"Common elements:\", common)"
   ]
  },
  {
   "cell_type": "code",
   "execution_count": 36,
   "id": "1678b192-bfe8-4cf5-8c0a-b1824e47f38f",
   "metadata": {},
   "outputs": [
    {
     "name": "stdout",
     "output_type": "stream",
     "text": [
      "Intersection: [4, 5]\n"
     ]
    }
   ],
   "source": [
    "# 10. Intersection of Two Lists (without set)\n",
    "list1 = [1, 2, 3,4,  4, 5]\n",
    "list2 = [4, 5, 6, 7]\n",
    "common = []\n",
    "for x in list1:\n",
    "    if x in list2 and x not in common:\n",
    "        common.append(x)\n",
    "print(\"Intersection:\", common)"
   ]
  },
  {
   "cell_type": "markdown",
   "id": "4105a637-c9e3-4244-9448-e2b907730a88",
   "metadata": {},
   "source": [
    "##### 11. Count Words Starting with Vowel\n",
    "Given a sentence, count how many words start with a vowel.\n",
    "Example: \"An elephant is under a tree\" → 3"
   ]
  },
  {
   "cell_type": "code",
   "execution_count": 9,
   "id": "a52c55a0-eeac-4a2a-a5a7-21a4fd6ad63f",
   "metadata": {},
   "outputs": [
    {
     "name": "stdout",
     "output_type": "stream",
     "text": [
      "Number of words starting with a vowel: 5\n"
     ]
    }
   ],
   "source": [
    "sentence = \"An elephant is under a tree\"\n",
    "\n",
    "vowels = \"aeiouAEIOU\"\n",
    "\n",
    "words = sentence.split()            #  words = ['An', 'elephant', 'is', 'under', 'a', 'tree']\n",
    "\n",
    "# Count words that start with a vowel\n",
    "count = 0\n",
    "for word in words:\n",
    "    if word[0] in vowels:           # word[0] means first character of the word.\n",
    "        count += 1\n",
    "\n",
    "print(\"Number of words starting with a vowel:\", count)"
   ]
  },
  {
   "cell_type": "code",
   "execution_count": 10,
   "id": "a243a012-b7c8-4f5e-b45a-aacdc31c1040",
   "metadata": {},
   "outputs": [
    {
     "data": {
      "text/plain": [
       "['An', 'elephant', 'is', 'under', 'a', 'tree']"
      ]
     },
     "execution_count": 10,
     "metadata": {},
     "output_type": "execute_result"
    }
   ],
   "source": [
    "words = sentence.split()\n",
    "words"
   ]
  },
  {
   "cell_type": "code",
   "execution_count": 34,
   "id": "068a1088-a4c3-430f-ba67-6c8a03f20bdf",
   "metadata": {},
   "outputs": [
    {
     "name": "stdout",
     "output_type": "stream",
     "text": [
      "Words starting with vowel: 5\n"
     ]
    }
   ],
   "source": [
    "# 11. Count Words Starting with Vowel\n",
    "sentence = \"An elephant is under a tree\"\n",
    "words = sentence.split()\n",
    "vowels = \"aeiouAEIOU\"\n",
    "count = 0\n",
    "for w in words:\n",
    "    if w[0] in vowels:\n",
    "        count += 1\n",
    "print(\"Words starting with vowel:\", count)\n"
   ]
  },
  {
   "cell_type": "code",
   "execution_count": null,
   "id": "64608a50-f23b-41b6-b3b3-86b4f592c0ea",
   "metadata": {},
   "outputs": [],
   "source": []
  },
  {
   "cell_type": "markdown",
   "id": "c76ff4db-2b24-4914-9a8e-3b5cbcd0addd",
   "metadata": {},
   "source": [
    "##### 12. Pattern with Conditions\n",
    "Print a pyramid of numbers where each row contains only odd numbers up to n.\n",
    "Example (n=5):"
   ]
  },
  {
   "cell_type": "code",
   "execution_count": 11,
   "id": "9b77f967-a24b-4e3c-9eaf-42196f516646",
   "metadata": {},
   "outputs": [
    {
     "name": "stdout",
     "output_type": "stream",
     "text": [
      "  1 \n",
      " 1 3 \n",
      "1 3 5 \n"
     ]
    }
   ],
   "source": [
    "n = 5\n",
    "\n",
    "# Loop through odd numbers only\n",
    "for i in range(1, n+1, 2):\n",
    "    # Print spaces for pyramid alignment\n",
    "    print(\" \" * ((n - i) // 2), end=\"\")     #1,3,5      #spaces 2,1,0\n",
    "    \n",
    "    # Print odd numbers in each row\n",
    "    for j in range(1, i+1, 2):              #1          #1,3          #1,3,5\n",
    "        print(j, end=\" \")\n",
    "    print()"
   ]
  },
  {
   "cell_type": "code",
   "execution_count": 33,
   "id": "f36310db-d6e7-4aeb-9fe2-192fdf73aea6",
   "metadata": {},
   "outputs": [
    {
     "name": "stdout",
     "output_type": "stream",
     "text": [
      "       1       \n",
      "      3 5      \n",
      "     7 9 11    \n",
      "  13 15 17 19  \n",
      " 21 23 25 27 29\n"
     ]
    }
   ],
   "source": [
    "# 12. Pattern with Conditions (Odd Numbers Pyramid)\n",
    "n = 5\n",
    "num = 1\n",
    "for i in range(1, n+1):\n",
    "    row = []\n",
    "    for j in range(i):\n",
    "        row.append(str(num))\n",
    "        num += 2   # only odd numbers\n",
    "    print(\" \".join(row).center(n*3))"
   ]
  },
  {
   "cell_type": "code",
   "execution_count": null,
   "id": "64070dc5-d585-402d-98c2-8b58aac1bb60",
   "metadata": {},
   "outputs": [],
   "source": []
  },
  {
   "cell_type": "code",
   "execution_count": null,
   "id": "10d07c35-e88a-46ee-a2fe-b0d5e7b94b6e",
   "metadata": {},
   "outputs": [],
   "source": []
  },
  {
   "cell_type": "code",
   "execution_count": null,
   "id": "5ef29f5b-7295-4ac7-88a4-733f40eb3cb3",
   "metadata": {},
   "outputs": [],
   "source": []
  },
  {
   "cell_type": "raw",
   "id": "bd89191f-7c23-43e6-ad05-d1e3aaf5fc8a",
   "metadata": {},
   "source": [
    "https://github.com/Amitmakode/DS_Class_1_30_PM "
   ]
  },
  {
   "cell_type": "code",
   "execution_count": 15,
   "id": "3a1c6166-90a6-4983-939b-563283f6c5e2",
   "metadata": {},
   "outputs": [
    {
     "name": "stdout",
     "output_type": "stream",
     "text": [
      "Second Largest: 15\n"
     ]
    }
   ],
   "source": [
    "# 1. Second Largest Without Sorting\n",
    "nums = [10, 5, 8, 20, 15]\n",
    "largest = max(nums)         # find largest once\n",
    "second = float('-inf')\n",
    "for n in nums:\n",
    "    if n != largest and n > second:\n",
    "        second = n\n",
    "print(\"Second Largest:\", second)"
   ]
  },
  {
   "cell_type": "code",
   "execution_count": 13,
   "id": "e451d49b-caa3-434c-8642-f7992e6c614f",
   "metadata": {},
   "outputs": [
    {
     "name": "stdout",
     "output_type": "stream",
     "text": [
      "Missing Number: 3\n"
     ]
    }
   ],
   "source": [
    "# 2. Missing Number in Range\n",
    "nums = [1, 2, 4, 5]\n",
    "n = 5   # total numbers should be from 1 to 5\n",
    "expected_sum = n * (n + 1) // 2\n",
    "actual_sum = 0\n",
    "for x in nums:\n",
    "    actual_sum += x\n",
    "print(\"Missing Number:\", expected_sum - actual_sum)"
   ]
  },
  {
   "cell_type": "code",
   "execution_count": 14,
   "id": "e9ce7ff2-ac75-4e35-aac5-035dde501575",
   "metadata": {},
   "outputs": [
    {
     "name": "stdout",
     "output_type": "stream",
     "text": [
      "Compressed: a3b2c4d1\n"
     ]
    }
   ],
   "source": [
    "# 3. Count Consecutive Characters (String Compression)\n",
    "s = \"aaabbccccd\"\n",
    "result = \"\"\n",
    "count = 1\n",
    "for i in range(1, len(s)):\n",
    "    if s[i] == s[i-1]:\n",
    "        count += 1\n",
    "    else:\n",
    "        result += s[i-1] + str(count)\n",
    "        count = 1\n",
    "        \n",
    "result += s[-1] + str(count)   # add last group\n",
    "print(\"Compressed:\", result)"
   ]
  },
  {
   "cell_type": "code",
   "execution_count": 16,
   "id": "894ec896-165b-40f8-9487-7d31fedac599",
   "metadata": {},
   "outputs": [
    {
     "name": "stdout",
     "output_type": "stream",
     "text": [
      "Not Balanced\n"
     ]
    }
   ],
   "source": [
    "# 4. Check Balanced String\n",
    "s = \"coode\".lower()\n",
    "vowels = \"aeiou\"\n",
    "vowel_count = 0\n",
    "consonant_count = 0\n",
    "\n",
    "for ch in s:\n",
    "    if ch.isalpha():\n",
    "        if ch in vowels:\n",
    "            vowel_count += 1\n",
    "        else:\n",
    "            consonant_count += 1\n",
    "\n",
    "if vowel_count == consonant_count:\n",
    "    print(\"Balanced\")\n",
    "else:\n",
    "    print(\"Not Balanced\")"
   ]
  },
  {
   "cell_type": "code",
   "execution_count": 17,
   "id": "69fdfa1e-4009-41ee-8d93-135e7e807b0c",
   "metadata": {},
   "outputs": [
    {
     "name": "stdout",
     "output_type": "stream",
     "text": [
      "Difference List: [3, 0, 5]\n"
     ]
    }
   ],
   "source": [
    "# 5. List Element Difference\n",
    "nums = [4, 7, 2]\n",
    "largest = max(nums)\n",
    "diff_list = []\n",
    "for n in nums:\n",
    "    diff_list.append(largest - n)\n",
    "print(\"Difference List:\", diff_list)"
   ]
  },
  {
   "cell_type": "code",
   "execution_count": 18,
   "id": "e07afe1b-2640-4b04-aa55-bb6fe848adce",
   "metadata": {},
   "outputs": [
    {
     "name": "stdout",
     "output_type": "stream",
     "text": [
      "Rearranged Number: 6554321\n"
     ]
    }
   ],
   "source": [
    "\n",
    "# 6. Digit Rearrangement\n",
    "num = 4256153\n",
    "digits = list(str(num))\n",
    "digits.sort(reverse=True)\n",
    "new_num = int(\"\".join(digits))\n",
    "print(\"Rearranged Number:\", new_num)\n"
   ]
  },
  {
   "cell_type": "code",
   "execution_count": 19,
   "id": "9cb66e58-f61e-44aa-bf89-a8ee6c19d789",
   "metadata": {},
   "outputs": [
    {
     "name": "stdout",
     "output_type": "stream",
     "text": [
      "Even Index Sum is larger: 90\n"
     ]
    }
   ],
   "source": [
    "# 7. Sum of Alternate Numbers\n",
    "nums = [10, 20, 30, 40, 50]\n",
    "even_sum = 0\n",
    "odd_sum = 0\n",
    "\n",
    "for i in range( len(nums)):\n",
    "    if i % 2 == 0:\n",
    "        even_sum += nums[i]\n",
    "    else:\n",
    "        odd_sum += nums[i]\n",
    "\n",
    "if even_sum > odd_sum:\n",
    "    print(\"Even Index Sum is larger:\", even_sum)\n",
    "else:\n",
    "    print(\"Odd Index Sum is larger:\", odd_sum)\n",
    "    \n",
    "    "
   ]
  },
  {
   "cell_type": "code",
   "execution_count": 20,
   "id": "c80a755a-d017-497b-9e7e-879014533a97",
   "metadata": {},
   "outputs": [
    {
     "name": "stdout",
     "output_type": "stream",
     "text": [
      "Flattened List: [1, 2, 3, 4, 5]\n"
     ]
    }
   ],
   "source": [
    "# 8. Flatten a Nested List\n",
    "nested = [[1,2], [3,4], [5]]\n",
    "flat = []\n",
    "for sublist in nested:\n",
    "    for item in sublist:\n",
    "        flat.append(item)\n",
    "print(\"Flattened List:\", flat)\n"
   ]
  },
  {
   "cell_type": "code",
   "execution_count": 25,
   "id": "04482777-1c72-45cd-b651-4f4cfc7bd836",
   "metadata": {},
   "outputs": [
    {
     "name": "stdout",
     "output_type": "stream",
     "text": [
      "First Non-Repeating: i\n"
     ]
    }
   ],
   "source": [
    "# 9. First Non-Repeating Character\n",
    "s = \"swwiss\"\n",
    "for ch in s:\n",
    "    if s.count(ch) == 1:\n",
    "        print(\"First Non-Repeating:\", ch)\n",
    "        break\n",
    "        \n",
    "        \n",
    "        \n",
    "\n"
   ]
  },
  {
   "cell_type": "code",
   "execution_count": 35,
   "id": "a6a54f4e-c2f2-4a86-9c8e-81a6e227c430",
   "metadata": {},
   "outputs": [
    {
     "name": "stdout",
     "output_type": "stream",
     "text": [
      "Intersection: [4, 5]\n"
     ]
    }
   ],
   "source": [
    "# 10. Intersection of Two Lists (without set)\n",
    "list1 = [1, 2, 3,4,  4, 5]\n",
    "list2 = [4, 5, 6, 7]\n",
    "common = []\n",
    "for x in list1:\n",
    "    if x in list2 and x not in common:\n",
    "        common.append(x)\n",
    "print(\"Intersection:\", common)"
   ]
  },
  {
   "cell_type": "code",
   "execution_count": 22,
   "id": "e06ab9f7-ead8-4679-a274-4ebec00c6a73",
   "metadata": {},
   "outputs": [
    {
     "name": "stdout",
     "output_type": "stream",
     "text": [
      "Words starting with vowel: 5\n"
     ]
    }
   ],
   "source": [
    "# 11. Count Words Starting with Vowel\n",
    "sentence = \"An elephant is under a tree\"\n",
    "words = sentence.split()\n",
    "vowels = \"aeiouAEIOU\"\n",
    "count = 0\n",
    "for w in words:\n",
    "    if w[0] in vowels:\n",
    "        count += 1\n",
    "print(\"Words starting with vowel:\", count)\n"
   ]
  },
  {
   "cell_type": "code",
   "execution_count": 24,
   "id": "e5c99d5a-8676-4756-9250-5ab1f91daab3",
   "metadata": {},
   "outputs": [
    {
     "name": "stdout",
     "output_type": "stream",
     "text": [
      "       1       \n",
      "      3 5      \n",
      "     7 9 11    \n",
      "  13 15 17 19  \n",
      " 21 23 25 27 29\n"
     ]
    }
   ],
   "source": [
    "# 12. Pattern with Conditions (Odd Numbers Pyramid)\n",
    "n = 5\n",
    "num = 1\n",
    "for i in range(1, n+1):\n",
    "    row = []\n",
    "    for j in range(i):\n",
    "        row.append(str(num))\n",
    "        num += 2   # only odd numbers\n",
    "    print(\" \".join(row).center(n*3))"
   ]
  },
  {
   "cell_type": "code",
   "execution_count": null,
   "id": "f9dc21dc-3cd0-4d15-aefe-3b95e77dceed",
   "metadata": {},
   "outputs": [],
   "source": [
    "# how to make VS code, virtual environment, packages"
   ]
  }
 ],
 "metadata": {
  "kernelspec": {
   "display_name": "Python 3 (ipykernel)",
   "language": "python",
   "name": "python3"
  },
  "language_info": {
   "codemirror_mode": {
    "name": "ipython",
    "version": 3
   },
   "file_extension": ".py",
   "mimetype": "text/x-python",
   "name": "python",
   "nbconvert_exporter": "python",
   "pygments_lexer": "ipython3",
   "version": "3.13.5"
  }
 },
 "nbformat": 4,
 "nbformat_minor": 5
}
