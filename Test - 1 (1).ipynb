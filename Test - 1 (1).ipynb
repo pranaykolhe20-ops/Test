{
 "cells": [
  {
   "cell_type": "markdown",
   "id": "99ccf06e-f143-4a17-9f51-501f4b3a3af2",
   "metadata": {},
   "source": [
    "##### 1. Second Largest Without Sorting\n",
    "Write a program to find the second largest number in a list without using sort() or max() more than once."
   ]
  },
  {
   "cell_type": "code",
   "execution_count": 33,
   "id": "96a0a005-b2b3-46ca-b503-5b4767881f13",
   "metadata": {},
   "outputs": [
    {
     "data": {
      "text/plain": [
       "8"
      ]
     },
     "execution_count": 33,
     "metadata": {},
     "output_type": "execute_result"
    }
   ],
   "source": [
    "l1 = [4,5,6,7,8,9]\n",
    "c=max(l1)-1\n",
    "c"
   ]
  },
  {
   "cell_type": "markdown",
   "id": "9e0fedae-b13f-4d41-9547-34935e78eb7d",
   "metadata": {},
   "source": [
    "##### 2. Missing Number in Range\n",
    "Input: a list of unique numbers from 1 to n (with one missing). Find the missing number using loops only.\n",
    "Example: [1, 2, 4, 5] → Output: 3"
   ]
  },
  {
   "cell_type": "code",
   "execution_count": 40,
   "id": "7fbac98c-c188-4407-b089-55a68ad82624",
   "metadata": {},
   "outputs": [
    {
     "name": "stdout",
     "output_type": "stream",
     "text": [
      "missing number is 3\n"
     ]
    }
   ],
   "source": [
    "def find_missing(nums,n):\n",
    "    for i in range(1,n+1):\n",
    "        if i not in nums:\n",
    "            return i\n",
    "lst=[1,2,4,5,6,7]\n",
    "n=7\n",
    "print(\"missing number is\", find_missing(lst,n))"
   ]
  },
  {
   "cell_type": "code",
   "execution_count": null,
   "id": "e77339cf-2247-4eb7-a48c-5b32d98b73d4",
   "metadata": {},
   "outputs": [],
   "source": []
  },
  {
   "cell_type": "markdown",
   "id": "45a80c52-5805-4731-a517-d34ee309d432",
   "metadata": {},
   "source": [
    "##### 3. Count Consecutive Characters\n",
    "For a given string, count consecutive repeating characters and compress it.\n",
    "Example: \"aaabbccccd\" → \"a3b2c4d1\""
   ]
  },
  {
   "cell_type": "code",
   "execution_count": null,
   "id": "26fcd091-bcef-411e-8052-45bc737d05cb",
   "metadata": {},
   "outputs": [],
   "source": []
  },
  {
   "cell_type": "markdown",
   "id": "c1cdf471-4ca4-4850-af5b-bd26b40fc345",
   "metadata": {},
   "source": [
    "##### 4. Check Balanced String\n",
    "A string is balanced if the number of vowels equals the number of consonants.\n",
    "Example: \"code\" → Balanced (2 vowels, 2 consonants)."
   ]
  },
  {
   "cell_type": "markdown",
   "id": "0d9ad19f-9e0b-4f28-86a0-fc348b42eb02",
   "metadata": {},
   "source": [
    "##### 5. List Element Difference\n",
    "Given a list, create a new list where each element is the difference between the largest element and the current element.\n",
    "Example: [4, 7, 2] → [3, 0, 5]\n"
   ]
  },
  {
   "cell_type": "markdown",
   "id": "82097362-0485-4c51-a7b5-634719d8b0ce",
   "metadata": {},
   "source": [
    "##### 6. Digit Rearrangement\n",
    "Take an integer and rearrange its digits in descending order.\n",
    "Example: 42153 → 54321"
   ]
  },
  {
   "cell_type": "code",
   "execution_count": null,
   "id": "ae90ffba-f144-42d0-83c8-bd6a8e33f8a3",
   "metadata": {},
   "outputs": [],
   "source": []
  },
  {
   "cell_type": "markdown",
   "id": "026325a2-5ed5-4c3c-8f2e-b809f6610ced",
   "metadata": {},
   "source": [
    "##### 7. Sum of Alternate Numbers\n",
    "Given a list of integers, find the sum of elements at even indices and at odd indices separately, then print which sum is larger.\n"
   ]
  },
  {
   "cell_type": "code",
   "execution_count": null,
   "id": "9b77f967-a24b-4e3c-9eaf-42196f516646",
   "metadata": {},
   "outputs": [],
   "source": []
  },
  {
   "cell_type": "code",
   "execution_count": null,
   "id": "64070dc5-d585-402d-98c2-8b58aac1bb60",
   "metadata": {},
   "outputs": [],
   "source": []
  }
 ],
 "metadata": {
  "kernelspec": {
   "display_name": "Python 3 (ipykernel)",
   "language": "python",
   "name": "python3"
  },
  "language_info": {
   "codemirror_mode": {
    "name": "ipython",
    "version": 3
   },
   "file_extension": ".py",
   "mimetype": "text/x-python",
   "name": "python",
   "nbconvert_exporter": "python",
   "pygments_lexer": "ipython3",
   "version": "3.13.5"
  }
 },
 "nbformat": 4,
 "nbformat_minor": 5
}
