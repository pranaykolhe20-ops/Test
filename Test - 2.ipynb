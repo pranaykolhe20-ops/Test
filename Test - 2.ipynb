{
 "cells": [
  {
   "cell_type": "markdown",
   "id": "bc7cf54d-e36a-40f7-84e2-6cb282d59203",
   "metadata": {},
   "source": [
    "#####  1. Find the 2nd largest and 2nd smallest element in a list."
   ]
  },
  {
   "cell_type": "code",
   "execution_count": 9,
   "id": "6e397e48-a00c-48de-876a-865624a0a6c6",
   "metadata": {},
   "outputs": [
    {
     "name": "stdout",
     "output_type": "stream",
     "text": [
      "second largest element in list: 44\n",
      "second smallest element in list: 8\n"
     ]
    }
   ],
   "source": [
    "list = [4,5,8,9,11,44,22,34,90]\n",
    "\n",
    "list1 = sorted(list)\n",
    "second_largest = list1[-2]\n",
    "second_smallest = list1[2]\n",
    "\n",
    "print('second largest element in list:', second_largest)\n",
    "print('second smallest element in list:' , second_smallest)"
   ]
  },
  {
   "cell_type": "markdown",
   "id": "54858a0a-9ab8-4b0b-b237-f62426d766d9",
   "metadata": {},
   "source": [
    "##### 2. Find the key with the largest value in a dictionary."
   ]
  },
  {
   "cell_type": "code",
   "execution_count": 10,
   "id": "be76beab-4773-476c-bde0-b3f60e0e00ba",
   "metadata": {},
   "outputs": [
    {
     "name": "stdout",
     "output_type": "stream",
     "text": [
      "largest value in dictionary : d\n"
     ]
    }
   ],
   "source": [
    "dict = {\"a\": 3 , 'b' : 6 , \"c\": 12 , \"d\" : 24}\n",
    "\n",
    "largest_val = max(dict,key = dict.get)\n",
    "\n",
    "print(\"largest value in dictionary :\" , largest_val)"
   ]
  },
  {
   "cell_type": "markdown",
   "id": "0d8f284a-dd21-4a9b-9e88-5cfeb3f7f501",
   "metadata": {},
   "source": [
    "##### 3. Create a new folder using os module and create a file inside it.f"
   ]
  },
  {
   "cell_type": "code",
   "execution_count": 5,
   "id": "fd46bf08-bdea-4237-892d-013a05f992c6",
   "metadata": {},
   "outputs": [
    {
     "name": "stdout",
     "output_type": "stream",
     "text": [
      "Folder and file create successfully\n"
     ]
    }
   ],
   "source": [
    "import os\n",
    "\n",
    "os.mkdir(\"Datascience\")\n",
    "f = open(\"Datascience/newfile.txt\",\"w\")\n",
    "f.write(\"my file is inside Datascience\")\n",
    "f.close()\n",
    "print(\"Folder and file create successfully\")"
   ]
  },
  {
   "cell_type": "markdown",
   "id": "73a02f78-a1b5-45a3-bc6f-1808aea015fa",
   "metadata": {},
   "source": [
    "##### 4. Write a recursive function to calculate Fibonacci series up to n terms. "
   ]
  },
  {
   "cell_type": "code",
   "execution_count": 14,
   "id": "d7776dbb-6334-4d3e-8cc3-e4053e0b416e",
   "metadata": {},
   "outputs": [],
   "source": [
    "def fibonacci_series(n):\n",
    "    a=0\n",
    "    b=1\n",
    "    for i in range(n):\n",
    "        print(b, end=\" \")\n",
    "        a,b=b,a+b\n",
    "\n",
    "        "
   ]
  },
  {
   "cell_type": "code",
   "execution_count": 15,
   "id": "459c9a50-fd4b-47f1-8bba-8da12f281607",
   "metadata": {},
   "outputs": [
    {
     "name": "stdout",
     "output_type": "stream",
     "text": [
      "1 1 2 3 5 "
     ]
    }
   ],
   "source": [
    "fibonacci_series(5)"
   ]
  },
  {
   "cell_type": "markdown",
   "id": "ff022b15-42f3-4157-81b0-306adabb4388",
   "metadata": {},
   "source": [
    "##### 5. Use a lambda with map() to convert a list of integers into their cubes. "
   ]
  },
  {
   "cell_type": "code",
   "execution_count": 1,
   "id": "926a7b78-6ba8-4b26-97e1-f93a84966e70",
   "metadata": {},
   "outputs": [
    {
     "name": "stdout",
     "output_type": "stream",
     "text": [
      "[1, 64, 125, 512, 729, 1331, 10648]\n"
     ]
    }
   ],
   "source": [
    "lst = [1,4,5,8,9,11,22]\n",
    "\n",
    "cube_lst = list(map(lambda x:x**3 , lst))\n",
    "\n",
    "print(cube_lst)"
   ]
  },
  {
   "cell_type": "markdown",
   "id": "575bbc5a-a684-4a16-b859-65734c886fe7",
   "metadata": {},
   "source": [
    "#####  6. Create a class Employee that increases salary by 10%."
   ]
  },
  {
   "cell_type": "code",
   "execution_count": 6,
   "id": "6aae05cc-8994-4791-b17d-347fb0b514ef",
   "metadata": {},
   "outputs": [],
   "source": [
    "class Employee:\n",
    "    def salary(self,salary):\n",
    "        print(f\"The salary hike of the employee : {salary*0.1}\")"
   ]
  },
  {
   "cell_type": "code",
   "execution_count": 8,
   "id": "97e3db4e-e762-4f53-a47d-a88c4d5cf908",
   "metadata": {},
   "outputs": [],
   "source": [
    "obj=Employee()"
   ]
  },
  {
   "cell_type": "code",
   "execution_count": 10,
   "id": "e619b7eb-1ee2-46d4-bd82-48bb9a9d6708",
   "metadata": {},
   "outputs": [
    {
     "name": "stdout",
     "output_type": "stream",
     "text": [
      "The salary of the employee : 2000.0\n"
     ]
    }
   ],
   "source": [
    "obj.salary(20000)"
   ]
  },
  {
   "cell_type": "markdown",
   "id": "31c7d8f0-c934-498a-940b-1b6ff94349fa",
   "metadata": {},
   "source": [
    "##### 7. Write a program to print the date 30 days from today. "
   ]
  },
  {
   "cell_type": "code",
   "execution_count": 11,
   "id": "65f0cb42-311b-41e3-9716-7eb3c2a222c1",
   "metadata": {},
   "outputs": [
    {
     "name": "stdout",
     "output_type": "stream",
     "text": [
      "Todays date:  2025-09-16\n",
      "Date after 30 days from today: 2025-10-16\n"
     ]
    }
   ],
   "source": [
    "import datetime\n",
    "today = datetime.date.today()\n",
    "print(\"Todays date: \", today)\n",
    "one_month = today+datetime.timedelta(days=30)\n",
    "print(\"Date after 30 days from today:\", one_month)"
   ]
  },
  {
   "cell_type": "markdown",
   "id": "2148e078-33b8-41d9-be27-a3ddeb7d2a56",
   "metadata": {},
   "source": [
    "##### 8. Write a program to convert radians to degrees and vice versa. "
   ]
  },
  {
   "cell_type": "code",
   "execution_count": 14,
   "id": "dd0ff190-2863-42de-8509-7c432e3f4c9a",
   "metadata": {},
   "outputs": [
    {
     "name": "stdout",
     "output_type": "stream",
     "text": [
      "0.3141592653589793\n",
      "1031.324031235482\n"
     ]
    }
   ],
   "source": [
    "import math\n",
    "\n",
    "Y = math.radians(18)\n",
    "print(Y)\n",
    "\n",
    "Z = math.degrees(18)\n",
    "print(Z)"
   ]
  },
  {
   "cell_type": "code",
   "execution_count": null,
   "id": "1d33a785-bc5c-40d8-b11d-97a00c2ae0f6",
   "metadata": {},
   "outputs": [],
   "source": []
  }
 ],
 "metadata": {
  "kernelspec": {
   "display_name": "Python 3 (ipykernel)",
   "language": "python",
   "name": "python3"
  },
  "language_info": {
   "codemirror_mode": {
    "name": "ipython",
    "version": 3
   },
   "file_extension": ".py",
   "mimetype": "text/x-python",
   "name": "python",
   "nbconvert_exporter": "python",
   "pygments_lexer": "ipython3",
   "version": "3.13.5"
  }
 },
 "nbformat": 4,
 "nbformat_minor": 5
}
